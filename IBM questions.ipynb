{
 "cells": [
  {
   "cell_type": "markdown",
   "id": "914e28dc",
   "metadata": {},
   "source": [
    "# PYTHON"
   ]
  },
  {
   "cell_type": "markdown",
   "id": "886c3eff",
   "metadata": {},
   "source": [
    "#### Consider a text file that contains a list of sourcefile including code.c, code.cpp and code.cs.\n",
    "#### You get your text file as basefilename = input().  Create three outputfile c_basefilename, cpp_basefilename, cs_basefilename.  Next process the list of file names in basefilename in order and for each source code file name encountered, append its name to the appropriate output file. Write the code in python"
   ]
  },
  {
   "cell_type": "code",
   "execution_count": null,
   "id": "1e4d2c97",
   "metadata": {},
   "outputs": [],
   "source": [
    "# read the string baseFilename\n",
    "baseFilename = input()\n",
    "\n",
    "\n",
    "# Step 2: Create three output files\n",
    "c_output_filename = f\"c_{baseFilename}\"\n",
    "cpp_output_filename = f\"cpp_{baseFilename}\"\n",
    "cs_output_filename = f\"cs_{baseFilename}\"\n",
    "\n",
    "c_file = open(c_output_filename, \"w\")\n",
    "cpp_file = open(cpp_output_filename, \"w\")\n",
    "cs_file = open(cs_output_filename, \"w\")\n",
    "\n",
    "# Step 3: Process the list of file names in basefilename\n",
    "with open(baseFilename, \"r\") as basefile:\n",
    "    for line in basefile:\n",
    "        filename = line.strip()  # Remove any leading/trailing whitespace\n",
    "\n",
    "        # Step 4: Determine the file type and append its name to the appropriate output file\n",
    "        if filename.endswith(\".c\"):\n",
    "            c_file.write(filename + \"\\n\")\n",
    "        elif filename.endswith(\".cpp\"):\n",
    "            cpp_file.write(filename + \"\\n\")\n",
    "        elif filename.endswith(\".cs\"):\n",
    "            cs_file.write(filename + \"\\n\")\n",
    "\n",
    "# Close the output files\n",
    "c_file.close()\n",
    "cpp_file.close()\n",
    "cs_file.close()"
   ]
  },
  {
   "cell_type": "markdown",
   "id": "b269b53c",
   "metadata": {},
   "source": [
    "# SQL"
   ]
  },
  {
   "cell_type": "markdown",
   "id": "dfe2f6f1",
   "metadata": {},
   "source": [
    "#### you have two tables first; customers with id and iban\n",
    "#### second; balances with customer_id and amount\n",
    "#### Question: Get list of customers who have a positive balance. The result should have following columns: iban, amount. The amount column has 2 places after decimal. "
   ]
  },
  {
   "cell_type": "code",
   "execution_count": null,
   "id": "c4a32ad0",
   "metadata": {},
   "outputs": [],
   "source": [
    "/*\n",
    "Enter your query below.\n",
    "Please append a semicolon \";\" at the end of the query\n",
    "*/\n",
    "SELECT\n",
    "    CONCAT(c.iban, ' ', FORMAT(b.amount, 2)) AS formatted_output\n",
    "FROM\n",
    "    customers c\n",
    "JOIN\n",
    "    balances b\n",
    "ON\n",
    "    c.id = b.customer_id\n",
    "WHERE\n",
    "    b.amount > 0\n",
    "ORDER BY\n",
    "    amount DESC;"
   ]
  }
 ],
 "metadata": {
  "kernelspec": {
   "display_name": "Python 3 (ipykernel)",
   "language": "python",
   "name": "python3"
  },
  "language_info": {
   "codemirror_mode": {
    "name": "ipython",
    "version": 3
   },
   "file_extension": ".py",
   "mimetype": "text/x-python",
   "name": "python",
   "nbconvert_exporter": "python",
   "pygments_lexer": "ipython3",
   "version": "3.10.5"
  }
 },
 "nbformat": 4,
 "nbformat_minor": 5
}
